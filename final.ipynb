{
 "cells": [
  {
   "cell_type": "code",
   "execution_count": 7,
   "metadata": {},
   "outputs": [
    {
     "name": "stdout",
     "output_type": "stream",
     "text": [
      "[1, 1, 0, 1, 1, 0, 1, 1, 0, 1]\n",
      "<function <lambda> at 0x7f9076cf8ee0>\n"
     ]
    }
   ],
   "source": [
    "f = [ 0 if x % 3 == 0 else 1 for x in range (1, 11) ]\n",
    "print(f)\n",
    "n = 10\n",
    "y = lambda n: [x*x for x in range(n)]\n",
    "print(y)"
   ]
  },
  {
   "cell_type": "code",
   "execution_count": 12,
   "metadata": {},
   "outputs": [
    {
     "name": "stdout",
     "output_type": "stream",
     "text": [
      "{'Friends': 1, 'Romans': 1, 'countrymen': 1, 'lend': 1, 'me': 1, 'your': 1, 'ears': 1, 'I': 1, 'come': 1, 'to': 2, 'bury': 1, 'Caesar': 1, 'not': 1, 'praise': 1, 'him': 1}\n",
      "{'Friends': ['Friends', 'Romans', 'countrymen', 'lend', 'me', 'your', 'ears', 'I', 'come', 'to', 'bury', 'Caesar', 'not', 'to', 'praise', 'him'], 'Romans': ['Friends', 'Romans', 'countrymen', 'lend', 'me', 'your', 'ears', 'I', 'come', 'to', 'bury', 'Caesar', 'not', 'to', 'praise', 'him'], 'countrymen': ['Friends', 'Romans', 'countrymen', 'lend', 'me', 'your', 'ears', 'I', 'come', 'to', 'bury', 'Caesar', 'not', 'to', 'praise', 'him'], 'lend': ['Friends', 'Romans', 'countrymen', 'lend', 'me', 'your', 'ears', 'I', 'come', 'to', 'bury', 'Caesar', 'not', 'to', 'praise', 'him'], 'me': ['Friends', 'Romans', 'countrymen', 'lend', 'me', 'your', 'ears', 'I', 'come', 'to', 'bury', 'Caesar', 'not', 'to', 'praise', 'him'], 'your': ['Friends', 'Romans', 'countrymen', 'lend', 'me', 'your', 'ears', 'I', 'come', 'to', 'bury', 'Caesar', 'not', 'to', 'praise', 'him'], 'ears': ['Friends', 'Romans', 'countrymen', 'lend', 'me', 'your', 'ears', 'I', 'come', 'to', 'bury', 'Caesar', 'not', 'to', 'praise', 'him'], 'I': ['Friends', 'Romans', 'countrymen', 'lend', 'me', 'your', 'ears', 'I', 'come', 'to', 'bury', 'Caesar', 'not', 'to', 'praise', 'him'], 'come': ['Friends', 'Romans', 'countrymen', 'lend', 'me', 'your', 'ears', 'I', 'come', 'to', 'bury', 'Caesar', 'not', 'to', 'praise', 'him'], 'to': ['Friends', 'Romans', 'countrymen', 'lend', 'me', 'your', 'ears', 'I', 'come', 'to', 'bury', 'Caesar', 'not', 'to', 'praise', 'him'], 'bury': ['Friends', 'Romans', 'countrymen', 'lend', 'me', 'your', 'ears', 'I', 'come', 'to', 'bury', 'Caesar', 'not', 'to', 'praise', 'him'], 'Caesar': ['Friends', 'Romans', 'countrymen', 'lend', 'me', 'your', 'ears', 'I', 'come', 'to', 'bury', 'Caesar', 'not', 'to', 'praise', 'him'], 'not': ['Friends', 'Romans', 'countrymen', 'lend', 'me', 'your', 'ears', 'I', 'come', 'to', 'bury', 'Caesar', 'not', 'to', 'praise', 'him'], 'praise': ['Friends', 'Romans', 'countrymen', 'lend', 'me', 'your', 'ears', 'I', 'come', 'to', 'bury', 'Caesar', 'not', 'to', 'praise', 'him'], 'him': ['Friends', 'Romans', 'countrymen', 'lend', 'me', 'your', 'ears', 'I', 'come', 'to', 'bury', 'Caesar', 'not', 'to', 'praise', 'him']}\n"
     ]
    }
   ],
   "source": [
    "text = 'Friends, Romans, countrymen, lend me your ears: I come to bury Caesar, not to praise him.'\n",
    "punctuation_marks = '.,?!:;\"\\'+=%$#@*&^|\\/()[]{}'\n",
    "refined_text = ''.join([char for char in text if char not in punctuation_marks])\n",
    "d ={ w: refined_text.split().count(w) for w in refined_text.split()}\n",
    "print(d)\n",
    "b ={ w: refined_text.split() for w in refined_text.split()}\n",
    "print(b)"
   ]
  },
  {
   "cell_type": "code",
   "execution_count": 27,
   "metadata": {},
   "outputs": [
    {
     "name": "stdout",
     "output_type": "stream",
     "text": [
      "1\n",
      "2\n",
      "3\n",
      "4\n",
      "5\n",
      "6\n",
      "7\n",
      "8\n",
      "9\n",
      "10\n"
     ]
    }
   ],
   "source": [
    "def foo():\n",
    "  n = 0\n",
    "  while True:\n",
    "      n += 1\n",
    "      yield n\n",
    "\n",
    "f = foo()\n",
    "for i in range(10):\n",
    "    print(next(f))"
   ]
  }
 ],
 "metadata": {
  "interpreter": {
   "hash": "aee8b7b246df8f9039afb4144a1f6fd8d2ca17a180786b69acc140d282b71a49"
  },
  "kernelspec": {
   "display_name": "Python 3.9.7 64-bit",
   "language": "python",
   "name": "python3"
  },
  "language_info": {
   "codemirror_mode": {
    "name": "ipython",
    "version": 3
   },
   "file_extension": ".py",
   "mimetype": "text/x-python",
   "name": "python",
   "nbconvert_exporter": "python",
   "pygments_lexer": "ipython3",
   "version": "3.9.7"
  },
  "orig_nbformat": 4
 },
 "nbformat": 4,
 "nbformat_minor": 2
}
